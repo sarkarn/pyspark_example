{
 "cells": [
  {
   "cell_type": "code",
   "execution_count": 1,
   "id": "24f6233a-4afb-4da1-9cc7-7b61ca9b01e6",
   "metadata": {
    "tags": []
   },
   "outputs": [],
   "source": [
    "import findspark\n",
    "findspark.init()"
   ]
  },
  {
   "cell_type": "code",
   "execution_count": 2,
   "id": "fe51699d-1aea-4e10-8435-55058aed8ad2",
   "metadata": {
    "tags": []
   },
   "outputs": [],
   "source": [
    "import pyspark"
   ]
  },
  {
   "cell_type": "code",
   "execution_count": 3,
   "id": "aa3efda2-dca4-4f2c-9fbd-b50360d6c664",
   "metadata": {
    "tags": []
   },
   "outputs": [],
   "source": [
    "from pyspark.sql import SparkSession"
   ]
  },
  {
   "cell_type": "code",
   "execution_count": 4,
   "id": "ebe4d213-ec6a-46bb-ad74-f903dac75bea",
   "metadata": {
    "tags": []
   },
   "outputs": [],
   "source": [
    "spark = SparkSession.builder\\\n",
    "    .appName(\"NNS1\")\\\n",
    "    .getOrCreate()"
   ]
  },
  {
   "cell_type": "code",
   "execution_count": 5,
   "id": "f8da53a3-75a0-44c8-ab81-fe9d46ff699d",
   "metadata": {
    "tags": []
   },
   "outputs": [],
   "source": [
    "from pyspark.sql.types import StructType,StructField,IntegerType,StringType,DateType"
   ]
  },
  {
   "cell_type": "code",
   "execution_count": 6,
   "id": "345b2813-90b2-42c3-b77a-95bb3a650f23",
   "metadata": {
    "tags": []
   },
   "outputs": [],
   "source": [
    "race_schema=StructType(fields=[StructField(\"raceId\",IntegerType(),False),\n",
    "                               StructField(\"year\",IntegerType(),True),\n",
    "                               StructField(\"round\",IntegerType(),True),\n",
    "                               StructField(\"circuitId\",IntegerType(),True),\n",
    "                               StructField(\"name\",StringType(),True),\n",
    "                               StructField(\"date\",DateType(),True),\n",
    "                               StructField(\"time\",StringType(),True),\n",
    "                               StructField(\"url\",StringType(),True)\n",
    "                              ])\n",
    "                               "
   ]
  },
  {
   "cell_type": "code",
   "execution_count": 7,
   "id": "d0b3f084-b0fd-44f5-8523-31990ecc6e4d",
   "metadata": {
    "tags": []
   },
   "outputs": [],
   "source": [
    "races_df = spark.read \\\n",
    " .option(\"header\",True) \\\n",
    " .schema(race_schema) \\\n",
    " .csv(\"./data/raw/races.csv\")\n"
   ]
  },
  {
   "cell_type": "code",
   "execution_count": 8,
   "id": "ccd8fab6-4c8e-4927-9758-f77baa985714",
   "metadata": {
    "tags": []
   },
   "outputs": [
    {
     "name": "stdout",
     "output_type": "stream",
     "text": [
      "+------+----+-----+---------+--------------------+----------+--------+--------------------+\n",
      "|raceId|year|round|circuitId|                name|      date|    time|                 url|\n",
      "+------+----+-----+---------+--------------------+----------+--------+--------------------+\n",
      "|     1|2009|    1|        1|Australian Grand ...|2009-03-29|06:00:00|http://en.wikiped...|\n",
      "|     2|2009|    2|        2|Malaysian Grand Prix|2009-04-05|09:00:00|http://en.wikiped...|\n",
      "|     3|2009|    3|       17|  Chinese Grand Prix|2009-04-19|07:00:00|http://en.wikiped...|\n",
      "|     4|2009|    4|        3|  Bahrain Grand Prix|2009-04-26|12:00:00|http://en.wikiped...|\n",
      "|     5|2009|    5|        4|  Spanish Grand Prix|2009-05-10|12:00:00|http://en.wikiped...|\n",
      "|     6|2009|    6|        6|   Monaco Grand Prix|2009-05-24|12:00:00|http://en.wikiped...|\n",
      "|     7|2009|    7|        5|  Turkish Grand Prix|2009-06-07|12:00:00|http://en.wikiped...|\n",
      "|     8|2009|    8|        9|  British Grand Prix|2009-06-21|12:00:00|http://en.wikiped...|\n",
      "|     9|2009|    9|       20|   German Grand Prix|2009-07-12|12:00:00|http://en.wikiped...|\n",
      "|    10|2009|   10|       11|Hungarian Grand Prix|2009-07-26|12:00:00|http://en.wikiped...|\n",
      "|    11|2009|   11|       12| European Grand Prix|2009-08-23|12:00:00|http://en.wikiped...|\n",
      "|    12|2009|   12|       13|  Belgian Grand Prix|2009-08-30|12:00:00|http://en.wikiped...|\n",
      "|    13|2009|   13|       14|  Italian Grand Prix|2009-09-13|12:00:00|http://en.wikiped...|\n",
      "|    14|2009|   14|       15|Singapore Grand Prix|2009-09-27|12:00:00|http://en.wikiped...|\n",
      "|    15|2009|   15|       22| Japanese Grand Prix|2009-10-04|05:00:00|http://en.wikiped...|\n",
      "|    16|2009|   16|       18|Brazilian Grand Prix|2009-10-18|16:00:00|http://en.wikiped...|\n",
      "|    17|2009|   17|       24|Abu Dhabi Grand Prix|2009-11-01|11:00:00|http://en.wikiped...|\n",
      "|    18|2008|    1|        1|Australian Grand ...|2008-03-16|04:30:00|http://en.wikiped...|\n",
      "|    19|2008|    2|        2|Malaysian Grand Prix|2008-03-23|07:00:00|http://en.wikiped...|\n",
      "|    20|2008|    3|        3|  Bahrain Grand Prix|2008-04-06|11:30:00|http://en.wikiped...|\n",
      "+------+----+-----+---------+--------------------+----------+--------+--------------------+\n",
      "only showing top 20 rows\n",
      "\n"
     ]
    }
   ],
   "source": [
    "races_df.show()"
   ]
  },
  {
   "cell_type": "code",
   "execution_count": 9,
   "id": "84da25d6-93c6-4109-93cf-d97132d3469e",
   "metadata": {
    "tags": []
   },
   "outputs": [],
   "source": [
    "from pyspark.sql.functions import current_timestamp"
   ]
  },
  {
   "cell_type": "code",
   "execution_count": 10,
   "id": "d7eba04c-2690-4dd9-8b32-c0b42b34baf3",
   "metadata": {
    "tags": []
   },
   "outputs": [],
   "source": [
    "races_df_with_ingestion_date = races_df.withColumn(\"IngestionDate\",current_timestamp())"
   ]
  },
  {
   "cell_type": "code",
   "execution_count": 11,
   "id": "333cf723-771d-4868-9d34-07a9ee2ce735",
   "metadata": {
    "tags": []
   },
   "outputs": [
    {
     "name": "stdout",
     "output_type": "stream",
     "text": [
      "+------+----+-----+---------+--------------------+----------+--------+--------------------+--------------------+\n",
      "|raceId|year|round|circuitId|                name|      date|    time|                 url|       IngestionDate|\n",
      "+------+----+-----+---------+--------------------+----------+--------+--------------------+--------------------+\n",
      "|     1|2009|    1|        1|Australian Grand ...|2009-03-29|06:00:00|http://en.wikiped...|2023-03-01 14:11:...|\n",
      "|     2|2009|    2|        2|Malaysian Grand Prix|2009-04-05|09:00:00|http://en.wikiped...|2023-03-01 14:11:...|\n",
      "|     3|2009|    3|       17|  Chinese Grand Prix|2009-04-19|07:00:00|http://en.wikiped...|2023-03-01 14:11:...|\n",
      "|     4|2009|    4|        3|  Bahrain Grand Prix|2009-04-26|12:00:00|http://en.wikiped...|2023-03-01 14:11:...|\n",
      "|     5|2009|    5|        4|  Spanish Grand Prix|2009-05-10|12:00:00|http://en.wikiped...|2023-03-01 14:11:...|\n",
      "|     6|2009|    6|        6|   Monaco Grand Prix|2009-05-24|12:00:00|http://en.wikiped...|2023-03-01 14:11:...|\n",
      "|     7|2009|    7|        5|  Turkish Grand Prix|2009-06-07|12:00:00|http://en.wikiped...|2023-03-01 14:11:...|\n",
      "|     8|2009|    8|        9|  British Grand Prix|2009-06-21|12:00:00|http://en.wikiped...|2023-03-01 14:11:...|\n",
      "|     9|2009|    9|       20|   German Grand Prix|2009-07-12|12:00:00|http://en.wikiped...|2023-03-01 14:11:...|\n",
      "|    10|2009|   10|       11|Hungarian Grand Prix|2009-07-26|12:00:00|http://en.wikiped...|2023-03-01 14:11:...|\n",
      "|    11|2009|   11|       12| European Grand Prix|2009-08-23|12:00:00|http://en.wikiped...|2023-03-01 14:11:...|\n",
      "|    12|2009|   12|       13|  Belgian Grand Prix|2009-08-30|12:00:00|http://en.wikiped...|2023-03-01 14:11:...|\n",
      "|    13|2009|   13|       14|  Italian Grand Prix|2009-09-13|12:00:00|http://en.wikiped...|2023-03-01 14:11:...|\n",
      "|    14|2009|   14|       15|Singapore Grand Prix|2009-09-27|12:00:00|http://en.wikiped...|2023-03-01 14:11:...|\n",
      "|    15|2009|   15|       22| Japanese Grand Prix|2009-10-04|05:00:00|http://en.wikiped...|2023-03-01 14:11:...|\n",
      "|    16|2009|   16|       18|Brazilian Grand Prix|2009-10-18|16:00:00|http://en.wikiped...|2023-03-01 14:11:...|\n",
      "|    17|2009|   17|       24|Abu Dhabi Grand Prix|2009-11-01|11:00:00|http://en.wikiped...|2023-03-01 14:11:...|\n",
      "|    18|2008|    1|        1|Australian Grand ...|2008-03-16|04:30:00|http://en.wikiped...|2023-03-01 14:11:...|\n",
      "|    19|2008|    2|        2|Malaysian Grand Prix|2008-03-23|07:00:00|http://en.wikiped...|2023-03-01 14:11:...|\n",
      "|    20|2008|    3|        3|  Bahrain Grand Prix|2008-04-06|11:30:00|http://en.wikiped...|2023-03-01 14:11:...|\n",
      "+------+----+-----+---------+--------------------+----------+--------+--------------------+--------------------+\n",
      "only showing top 20 rows\n",
      "\n"
     ]
    }
   ],
   "source": [
    "races_df_with_ingestion_date.show()"
   ]
  },
  {
   "cell_type": "code",
   "execution_count": 12,
   "id": "415792b2-5455-4558-af58-518fe79e3d86",
   "metadata": {
    "tags": []
   },
   "outputs": [],
   "source": [
    "from pyspark.sql.functions import to_timestamp,concat,col,lit\n",
    "                                        "
   ]
  },
  {
   "cell_type": "code",
   "execution_count": 13,
   "id": "7e7cf018-4c54-4b63-a4d4-731d16c0df47",
   "metadata": {
    "tags": []
   },
   "outputs": [],
   "source": [
    "races_df_with_ingestion_date = races_df_with_ingestion_date.withColumn(\"race_timesyamp\", to_timestamp(concat(col('date'),lit(' '), col('time')),\"yyyy-MM-dd HH:mm:SS\"))"
   ]
  },
  {
   "cell_type": "code",
   "execution_count": 14,
   "id": "682b65e9-689f-43ce-a174-34a49a1b0fda",
   "metadata": {
    "tags": []
   },
   "outputs": [
    {
     "name": "stdout",
     "output_type": "stream",
     "text": [
      "+------+----+-----+---------+--------------------+----------+--------+--------------------+--------------------+-------------------+\n",
      "|raceId|year|round|circuitId|                name|      date|    time|                 url|       IngestionDate|     race_timesyamp|\n",
      "+------+----+-----+---------+--------------------+----------+--------+--------------------+--------------------+-------------------+\n",
      "|     1|2009|    1|        1|Australian Grand ...|2009-03-29|06:00:00|http://en.wikiped...|2023-03-01 14:11:...|2009-03-29 06:00:00|\n",
      "|     2|2009|    2|        2|Malaysian Grand Prix|2009-04-05|09:00:00|http://en.wikiped...|2023-03-01 14:11:...|2009-04-05 09:00:00|\n",
      "|     3|2009|    3|       17|  Chinese Grand Prix|2009-04-19|07:00:00|http://en.wikiped...|2023-03-01 14:11:...|2009-04-19 07:00:00|\n",
      "|     4|2009|    4|        3|  Bahrain Grand Prix|2009-04-26|12:00:00|http://en.wikiped...|2023-03-01 14:11:...|2009-04-26 12:00:00|\n",
      "|     5|2009|    5|        4|  Spanish Grand Prix|2009-05-10|12:00:00|http://en.wikiped...|2023-03-01 14:11:...|2009-05-10 12:00:00|\n",
      "|     6|2009|    6|        6|   Monaco Grand Prix|2009-05-24|12:00:00|http://en.wikiped...|2023-03-01 14:11:...|2009-05-24 12:00:00|\n",
      "|     7|2009|    7|        5|  Turkish Grand Prix|2009-06-07|12:00:00|http://en.wikiped...|2023-03-01 14:11:...|2009-06-07 12:00:00|\n",
      "|     8|2009|    8|        9|  British Grand Prix|2009-06-21|12:00:00|http://en.wikiped...|2023-03-01 14:11:...|2009-06-21 12:00:00|\n",
      "|     9|2009|    9|       20|   German Grand Prix|2009-07-12|12:00:00|http://en.wikiped...|2023-03-01 14:11:...|2009-07-12 12:00:00|\n",
      "|    10|2009|   10|       11|Hungarian Grand Prix|2009-07-26|12:00:00|http://en.wikiped...|2023-03-01 14:11:...|2009-07-26 12:00:00|\n",
      "|    11|2009|   11|       12| European Grand Prix|2009-08-23|12:00:00|http://en.wikiped...|2023-03-01 14:11:...|2009-08-23 12:00:00|\n",
      "|    12|2009|   12|       13|  Belgian Grand Prix|2009-08-30|12:00:00|http://en.wikiped...|2023-03-01 14:11:...|2009-08-30 12:00:00|\n",
      "|    13|2009|   13|       14|  Italian Grand Prix|2009-09-13|12:00:00|http://en.wikiped...|2023-03-01 14:11:...|2009-09-13 12:00:00|\n",
      "|    14|2009|   14|       15|Singapore Grand Prix|2009-09-27|12:00:00|http://en.wikiped...|2023-03-01 14:11:...|2009-09-27 12:00:00|\n",
      "|    15|2009|   15|       22| Japanese Grand Prix|2009-10-04|05:00:00|http://en.wikiped...|2023-03-01 14:11:...|2009-10-04 05:00:00|\n",
      "|    16|2009|   16|       18|Brazilian Grand Prix|2009-10-18|16:00:00|http://en.wikiped...|2023-03-01 14:11:...|2009-10-18 16:00:00|\n",
      "|    17|2009|   17|       24|Abu Dhabi Grand Prix|2009-11-01|11:00:00|http://en.wikiped...|2023-03-01 14:11:...|2009-11-01 11:00:00|\n",
      "|    18|2008|    1|        1|Australian Grand ...|2008-03-16|04:30:00|http://en.wikiped...|2023-03-01 14:11:...|2008-03-16 04:30:00|\n",
      "|    19|2008|    2|        2|Malaysian Grand Prix|2008-03-23|07:00:00|http://en.wikiped...|2023-03-01 14:11:...|2008-03-23 07:00:00|\n",
      "|    20|2008|    3|        3|  Bahrain Grand Prix|2008-04-06|11:30:00|http://en.wikiped...|2023-03-01 14:11:...|2008-04-06 11:30:00|\n",
      "+------+----+-----+---------+--------------------+----------+--------+--------------------+--------------------+-------------------+\n",
      "only showing top 20 rows\n",
      "\n"
     ]
    }
   ],
   "source": [
    "races_df_with_ingestion_date.show()"
   ]
  },
  {
   "cell_type": "code",
   "execution_count": 15,
   "id": "c07a3e12-01ce-4ccd-93d2-0da9cbfda2d1",
   "metadata": {
    "tags": []
   },
   "outputs": [
    {
     "name": "stdout",
     "output_type": "stream",
     "text": [
      "1\n"
     ]
    }
   ],
   "source": [
    "print(races_df_with_ingestion_date.rdd.getNumPartitions())"
   ]
  },
  {
   "cell_type": "code",
   "execution_count": null,
   "id": "d2fe76ae-dab5-4abb-8b77-e12cf7321c93",
   "metadata": {
    "tags": []
   },
   "outputs": [],
   "source": []
  },
  {
   "cell_type": "code",
   "execution_count": 16,
   "id": "3ddfed52-9604-4fe8-8922-d51a2782f74a",
   "metadata": {
    "tags": []
   },
   "outputs": [
    {
     "name": "stdout",
     "output_type": "stream",
     "text": [
      " Volume in drive C is Windows\n",
      " Volume Serial Number is B263-7A3E\n",
      "\n",
      " Directory of C:\\jupytarlab\n",
      "\n",
      "03/01/2023  02:01 PM    <DIR>          .\n",
      "03/01/2023  02:01 PM    <DIR>          ..\n",
      "03/01/2023  01:53 PM    <DIR>          .ipynb_checkpoints\n",
      "02/28/2023  08:06 PM            27,619 py_spark_practice_1.ipynb\n",
      "03/01/2023  01:53 PM            17,325 pyspark_practice_2.ipynb\n",
      "02/22/2023  12:30 PM    <DIR>          spark-warehouse\n",
      "03/01/2023  02:01 PM             3,318 Untitled.ipynb\n",
      "               3 File(s)         48,262 bytes\n",
      "               4 Dir(s)  73,478,778,880 bytes free\n"
     ]
    }
   ],
   "source": [
    "ls"
   ]
  },
  {
   "cell_type": "code",
   "execution_count": null,
   "id": "8ffe5954-7d69-42f6-888a-c5ee450ce23c",
   "metadata": {
    "tags": []
   },
   "outputs": [],
   "source": [
    "races_df_with_ingestion_date.repartition(60)"
   ]
  },
  {
   "cell_type": "code",
   "execution_count": null,
   "id": "6d65f5d9-6f17-464c-bf77-be763fffcbe6",
   "metadata": {},
   "outputs": [],
   "source": []
  }
 ],
 "metadata": {
  "kernelspec": {
   "display_name": "Python 3 (ipykernel)",
   "language": "python",
   "name": "python3"
  },
  "language_info": {
   "codemirror_mode": {
    "name": "ipython",
    "version": 3
   },
   "file_extension": ".py",
   "mimetype": "text/x-python",
   "name": "python",
   "nbconvert_exporter": "python",
   "pygments_lexer": "ipython3",
   "version": "3.7.9"
  }
 },
 "nbformat": 4,
 "nbformat_minor": 5
}
