{
 "cells": [
  {
   "cell_type": "code",
   "execution_count": 1,
   "id": "1ddc6c1d-18ce-4add-987f-416221f51798",
   "metadata": {
    "tags": []
   },
   "outputs": [],
   "source": [
    "import findspark\n",
    "findspark.init()"
   ]
  },
  {
   "cell_type": "code",
   "execution_count": 2,
   "id": "5c474f97-419e-43b0-82e7-dc2620dad14b",
   "metadata": {
    "tags": []
   },
   "outputs": [],
   "source": [
    "import pyspark"
   ]
  },
  {
   "cell_type": "code",
   "execution_count": 3,
   "id": "7475994e-ba38-4e99-984a-10525b288e44",
   "metadata": {
    "tags": []
   },
   "outputs": [],
   "source": [
    "from pyspark.sql import SparkSession"
   ]
  },
  {
   "cell_type": "code",
   "execution_count": 4,
   "id": "82f6ae5f-7005-4fb2-9908-0f7d6991ca87",
   "metadata": {
    "tags": []
   },
   "outputs": [],
   "source": [
    "spark = SparkSession.builder\\\n",
    "    .appName(\"NNS2\")\\\n",
    "    .getOrCreate()"
   ]
  },
  {
   "cell_type": "code",
   "execution_count": 5,
   "id": "a070d276-39d0-4501-a3e3-96c35fa299c9",
   "metadata": {
    "tags": []
   },
   "outputs": [],
   "source": [
    "from pyspark.sql import Row"
   ]
  },
  {
   "cell_type": "code",
   "execution_count": 6,
   "id": "ebd03eb2-8814-44ec-99d0-cb735205d792",
   "metadata": {
    "tags": []
   },
   "outputs": [],
   "source": [
    "Person = Row('name', 'age')"
   ]
  },
  {
   "cell_type": "code",
   "execution_count": 7,
   "id": "7acee17e-50cc-4bd9-a260-ba1f0f74d1cb",
   "metadata": {
    "tags": []
   },
   "outputs": [],
   "source": [
    " d = [{'name': 'Alice', 'age': 1}]"
   ]
  },
  {
   "cell_type": "code",
   "execution_count": 8,
   "id": "37089ae1-94c6-415a-a1a1-956f70727af8",
   "metadata": {
    "tags": []
   },
   "outputs": [],
   "source": [
    "df1 = spark.createDataFrame(d)"
   ]
  },
  {
   "cell_type": "code",
   "execution_count": 9,
   "id": "7a2582ca-1cb9-404b-9d6d-cbe3fa6929cf",
   "metadata": {
    "tags": []
   },
   "outputs": [
    {
     "name": "stdout",
     "output_type": "stream",
     "text": [
      "+---+-----+\n",
      "|age| name|\n",
      "+---+-----+\n",
      "|  1|Alice|\n",
      "+---+-----+\n",
      "\n"
     ]
    }
   ],
   "source": [
    "df1.show()"
   ]
  },
  {
   "cell_type": "code",
   "execution_count": 10,
   "id": "d5430046-6a00-47ab-a5f8-866160a6f2c8",
   "metadata": {
    "tags": []
   },
   "outputs": [],
   "source": [
    "sc = spark.sparkContext"
   ]
  },
  {
   "cell_type": "code",
   "execution_count": 11,
   "id": "ddd08660-594f-47cb-ba98-b54906d27321",
   "metadata": {
    "tags": []
   },
   "outputs": [],
   "source": [
    "rdd = sc.parallelize([],10)"
   ]
  },
  {
   "cell_type": "code",
   "execution_count": 12,
   "id": "c8b06f38-447c-408b-8520-377f903096cd",
   "metadata": {
    "tags": []
   },
   "outputs": [],
   "source": [
    "data = [(\"James\",\"Smith\",\"USA\",\"CA\"),(\"Michael\",\"Rose\",\"USA\",\"NY\"), \\\n",
    "    (\"Robert\",\"Williams\",\"USA\",\"CA\"),(\"Maria\",\"Jones\",\"USA\",\"FL\") \\\n",
    "  ]"
   ]
  },
  {
   "cell_type": "code",
   "execution_count": 13,
   "id": "c8a6bd31-eccf-432f-a842-3bcfe2ccb1b4",
   "metadata": {
    "tags": []
   },
   "outputs": [],
   "source": [
    "columns=[\"firstname\",\"lastname\",\"country\",\"state\"]"
   ]
  },
  {
   "cell_type": "code",
   "execution_count": 14,
   "id": "59ee9c5a-a2d3-471a-b229-ca7dc2323a82",
   "metadata": {
    "tags": []
   },
   "outputs": [],
   "source": [
    "df=spark.createDataFrame(data=data,schema=columns)"
   ]
  },
  {
   "cell_type": "code",
   "execution_count": 15,
   "id": "3cd6e866-3eaa-426f-88ed-db430cbe3970",
   "metadata": {
    "tags": []
   },
   "outputs": [
    {
     "name": "stdout",
     "output_type": "stream",
     "text": [
      "+---------+--------+-------+-----+\n",
      "|firstname|lastname|country|state|\n",
      "+---------+--------+-------+-----+\n",
      "|    James|   Smith|    USA|   CA|\n",
      "|  Michael|    Rose|    USA|   NY|\n",
      "|   Robert|Williams|    USA|   CA|\n",
      "|    Maria|   Jones|    USA|   FL|\n",
      "+---------+--------+-------+-----+\n",
      "\n"
     ]
    }
   ],
   "source": [
    "df.show()\n"
   ]
  },
  {
   "cell_type": "code",
   "execution_count": 16,
   "id": "af8ca940-7c22-4174-bb68-4ab72f81ff33",
   "metadata": {
    "tags": []
   },
   "outputs": [
    {
     "name": "stdout",
     "output_type": "stream",
     "text": [
      "[Row(firstname='James', lastname='Smith', country='USA', state='CA'), Row(firstname='Michael', lastname='Rose', country='USA', state='NY'), Row(firstname='Robert', lastname='Williams', country='USA', state='CA'), Row(firstname='Maria', lastname='Jones', country='USA', state='FL')]\n"
     ]
    }
   ],
   "source": [
    "print(df.collect())"
   ]
  },
  {
   "cell_type": "code",
   "execution_count": 17,
   "id": "4f8e8207-74ef-4d0b-9916-3bebbc7118a3",
   "metadata": {
    "tags": []
   },
   "outputs": [],
   "source": [
    "states1=df.rdd.map(lambda x: x[3]).collect()"
   ]
  },
  {
   "cell_type": "code",
   "execution_count": 18,
   "id": "4503ba4b-059e-4cc2-90f4-299aa18612ed",
   "metadata": {
    "tags": []
   },
   "outputs": [
    {
     "name": "stdout",
     "output_type": "stream",
     "text": [
      "['CA', 'NY', 'CA', 'FL']\n"
     ]
    }
   ],
   "source": [
    "print(states1)"
   ]
  },
  {
   "cell_type": "code",
   "execution_count": 19,
   "id": "19d80869-ecab-469d-8626-9b7c6f94b07e",
   "metadata": {
    "tags": []
   },
   "outputs": [],
   "source": [
    "from collections import OrderedDict "
   ]
  },
  {
   "cell_type": "code",
   "execution_count": 20,
   "id": "5bf19f0f-fe7c-4688-bc6c-b289f3535aac",
   "metadata": {
    "tags": []
   },
   "outputs": [],
   "source": [
    "res = list(OrderedDict.fromkeys(states1)) "
   ]
  },
  {
   "cell_type": "code",
   "execution_count": 21,
   "id": "f770b529-ed9a-4baa-b528-794e79c5c7cc",
   "metadata": {
    "tags": []
   },
   "outputs": [
    {
     "name": "stdout",
     "output_type": "stream",
     "text": [
      "['CA', 'NY', 'FL']\n"
     ]
    }
   ],
   "source": [
    "print(res)"
   ]
  },
  {
   "cell_type": "code",
   "execution_count": 22,
   "id": "d370b5d7-5586-4171-b0bf-a385ad66ece2",
   "metadata": {
    "tags": []
   },
   "outputs": [],
   "source": [
    "states2=df.rdd.map(lambda x: x.state).collect()"
   ]
  },
  {
   "cell_type": "code",
   "execution_count": 23,
   "id": "fce743f8-b9b2-4ee3-ab33-7f98e587abc2",
   "metadata": {
    "tags": []
   },
   "outputs": [
    {
     "name": "stdout",
     "output_type": "stream",
     "text": [
      "['CA', 'NY', 'CA', 'FL']\n"
     ]
    }
   ],
   "source": [
    "print(states2)"
   ]
  },
  {
   "cell_type": "code",
   "execution_count": 24,
   "id": "6807b71b-7507-4f7c-ab85-6a77c19b1d0f",
   "metadata": {
    "tags": []
   },
   "outputs": [],
   "source": [
    "states3=df.select(df.state).collect()"
   ]
  },
  {
   "cell_type": "code",
   "execution_count": 25,
   "id": "ce4b0a47-b010-4199-afb0-36566ea8093a",
   "metadata": {
    "tags": []
   },
   "outputs": [
    {
     "name": "stdout",
     "output_type": "stream",
     "text": [
      "[Row(state='CA'), Row(state='NY'), Row(state='CA'), Row(state='FL')]\n"
     ]
    }
   ],
   "source": [
    "print(states3)"
   ]
  },
  {
   "cell_type": "code",
   "execution_count": 26,
   "id": "ca0bb0d1-bcd1-4d89-bd0e-478886d89ef3",
   "metadata": {
    "tags": []
   },
   "outputs": [],
   "source": [
    "states4=df.select(df.state).rdd.flatMap(lambda x: x).collect()"
   ]
  },
  {
   "cell_type": "code",
   "execution_count": 27,
   "id": "6853e022-8dc7-42f6-837b-44ef87a0dbc0",
   "metadata": {
    "tags": []
   },
   "outputs": [
    {
     "name": "stdout",
     "output_type": "stream",
     "text": [
      "['CA', 'NY', 'CA', 'FL']\n"
     ]
    }
   ],
   "source": [
    "print(states4)"
   ]
  },
  {
   "cell_type": "code",
   "execution_count": 30,
   "id": "40e2414e-e8aa-4882-838b-ce65436b6c62",
   "metadata": {
    "tags": []
   },
   "outputs": [],
   "source": [
    "states5=df.select(df.state).toPandas()['state']"
   ]
  },
  {
   "cell_type": "code",
   "execution_count": 31,
   "id": "eed7a440-64b2-49c5-8e86-c62e3b9c000e",
   "metadata": {},
   "outputs": [],
   "source": [
    "states6=list(states5)"
   ]
  },
  {
   "cell_type": "code",
   "execution_count": 32,
   "id": "0348f4ca-bfdd-44d8-a08d-02584391a581",
   "metadata": {
    "tags": []
   },
   "outputs": [
    {
     "name": "stdout",
     "output_type": "stream",
     "text": [
      "['CA', 'NY', 'CA', 'FL']\n"
     ]
    }
   ],
   "source": [
    "print(states6)"
   ]
  },
  {
   "cell_type": "code",
   "execution_count": 33,
   "id": "13a34b7c-d30e-40f7-925c-f1f604888ff1",
   "metadata": {
    "tags": []
   },
   "outputs": [
    {
     "name": "stdout",
     "output_type": "stream",
     "text": [
      "['CA', 'NY', 'CA', 'FL']\n",
      "['James', 'Michael', 'Robert', 'Maria']\n"
     ]
    }
   ],
   "source": [
    "pandDF=df.select(df.state,df.firstname).toPandas()\n",
    "print(list(pandDF['state']))\n",
    "print(list(pandDF['firstname']))"
   ]
  },
  {
   "cell_type": "code",
   "execution_count": null,
   "id": "5883dd7f-aab8-46c0-9ca9-c8a0b4c8552a",
   "metadata": {},
   "outputs": [],
   "source": []
  }
 ],
 "metadata": {
  "kernelspec": {
   "display_name": "Python 3 (ipykernel)",
   "language": "python",
   "name": "python3"
  },
  "language_info": {
   "codemirror_mode": {
    "name": "ipython",
    "version": 3
   },
   "file_extension": ".py",
   "mimetype": "text/x-python",
   "name": "python",
   "nbconvert_exporter": "python",
   "pygments_lexer": "ipython3",
   "version": "3.7.9"
  }
 },
 "nbformat": 4,
 "nbformat_minor": 5
}
