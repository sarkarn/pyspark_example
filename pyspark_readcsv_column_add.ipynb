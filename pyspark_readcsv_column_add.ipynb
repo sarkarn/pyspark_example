{
 "cells": [
  {
   "cell_type": "code",
   "execution_count": 1,
   "id": "cb8542db-4902-488e-b013-b024c3366c07",
   "metadata": {
    "tags": []
   },
   "outputs": [],
   "source": [
    "import findspark\n",
    "findspark.init()\n"
   ]
  },
  {
   "cell_type": "code",
   "execution_count": 2,
   "id": "7a152bdd-e60f-4f9e-aef7-944eb4454fc6",
   "metadata": {
    "tags": []
   },
   "outputs": [
    {
     "data": {
      "text/plain": [
       "'C:\\\\spark\\\\spark-2.4.4-bin-hadoop2.7'"
      ]
     },
     "execution_count": 2,
     "metadata": {},
     "output_type": "execute_result"
    }
   ],
   "source": [
    "findspark.find()\n"
   ]
  },
  {
   "cell_type": "code",
   "execution_count": 3,
   "id": "c7ae974a-a3bd-4cf9-a2b3-938ee90dab77",
   "metadata": {
    "tags": []
   },
   "outputs": [],
   "source": [
    "import pyspark"
   ]
  },
  {
   "cell_type": "code",
   "execution_count": 4,
   "id": "d1fc0c7e-d298-4684-b517-e1eb4bd16db7",
   "metadata": {},
   "outputs": [],
   "source": [
    "from pyspark.sql.window import Window\n",
    "from pyspark.sql import SparkSession"
   ]
  },
  {
   "cell_type": "code",
   "execution_count": 5,
   "id": "b8fb8436-cc7a-4a05-b1e4-e4e8264fd531",
   "metadata": {
    "tags": []
   },
   "outputs": [],
   "source": [
    "spark = SparkSession.builder\\\n",
    "    .appName(\"NNS\")\\\n",
    "    .getOrCreate()"
   ]
  },
  {
   "cell_type": "code",
   "execution_count": 6,
   "id": "651ab103-b59d-4012-b44a-d27ae72e34a1",
   "metadata": {
    "tags": []
   },
   "outputs": [],
   "source": [
    "spark = SparkSession.builder.master(\"local[1]\").appName(\"Demo\").getOrCreate()"
   ]
  },
  {
   "cell_type": "code",
   "execution_count": 7,
   "id": "d7be0477-cc6c-41a7-88e3-0cccbb681443",
   "metadata": {
    "tags": []
   },
   "outputs": [
    {
     "name": "stdout",
     "output_type": "stream",
     "text": [
      "root\n",
      " |-- _c0: string (nullable = true)\n",
      " |-- _c1: string (nullable = true)\n",
      " |-- _c2: string (nullable = true)\n",
      " |-- _c3: string (nullable = true)\n",
      "\n"
     ]
    }
   ],
   "source": [
    "df = spark.read.csv(\"C:/practice/pyspark/nns_pyspark_data_pipeline_example/srcdata/capitalcitypopulation.csv\")\n",
    "df.printSchema()"
   ]
  },
  {
   "cell_type": "code",
   "execution_count": 8,
   "id": "51a0811a-4d3d-40c4-afb7-8cd5ad2f918b",
   "metadata": {
    "tags": []
   },
   "outputs": [
    {
     "name": "stdout",
     "output_type": "stream",
     "text": [
      "+-------------+-----------+----------+-------+\n",
      "|          _c0|        _c1|       _c2|    _c3|\n",
      "+-------------+-----------+----------+-------+\n",
      "|         city|countrycode|population|   unit|\n",
      "|        Tokyo|        JPN|       210|Million|\n",
      "|    New Delhi|        IND|       175|Million|\n",
      "|Washington DC|        USA|       115|Million|\n",
      "|        Paris|        FRA|        75|Million|\n",
      "|       Moscow|        RUS|       125|Million|\n",
      "|       London|        GBR|       120|Million|\n",
      "|         Rome|        ITA|        80|Million|\n",
      "+-------------+-----------+----------+-------+\n",
      "\n"
     ]
    }
   ],
   "source": [
    "df.show()"
   ]
  },
  {
   "cell_type": "code",
   "execution_count": 9,
   "id": "51250441-17cc-4ab9-817d-2954141196aa",
   "metadata": {
    "tags": []
   },
   "outputs": [],
   "source": [
    "df.createOrReplaceTempView(\"PERSON_DATA\")"
   ]
  },
  {
   "cell_type": "code",
   "execution_count": 10,
   "id": "d2d8ee82-be86-4c27-bbe6-d2003e71a10f",
   "metadata": {
    "tags": []
   },
   "outputs": [],
   "source": [
    "df2 = spark.sql(\"SELECT * from PERSON_DATA\")"
   ]
  },
  {
   "cell_type": "code",
   "execution_count": 11,
   "id": "49788638-1c32-484c-ab56-cfe56752534a",
   "metadata": {
    "tags": []
   },
   "outputs": [
    {
     "name": "stdout",
     "output_type": "stream",
     "text": [
      "+-------------+-----------+----------+-------+\n",
      "|          _c0|        _c1|       _c2|    _c3|\n",
      "+-------------+-----------+----------+-------+\n",
      "|         city|countrycode|population|   unit|\n",
      "|        Tokyo|        JPN|       210|Million|\n",
      "|    New Delhi|        IND|       175|Million|\n",
      "|Washington DC|        USA|       115|Million|\n",
      "|        Paris|        FRA|        75|Million|\n",
      "|       Moscow|        RUS|       125|Million|\n",
      "|       London|        GBR|       120|Million|\n",
      "|         Rome|        ITA|        80|Million|\n",
      "+-------------+-----------+----------+-------+\n",
      "\n"
     ]
    }
   ],
   "source": [
    "df2.show()"
   ]
  },
  {
   "cell_type": "code",
   "execution_count": 12,
   "id": "f51566d0-8103-49d0-920b-759d66e51e6a",
   "metadata": {
    "tags": []
   },
   "outputs": [],
   "source": [
    "groupDF = spark.sql(\"SELECT _c0, count(*) from PERSON_DATA group by _c0\")"
   ]
  },
  {
   "cell_type": "code",
   "execution_count": 13,
   "id": "a86d2b54-ae0c-4b81-8905-87c43a6910fd",
   "metadata": {
    "tags": []
   },
   "outputs": [
    {
     "name": "stdout",
     "output_type": "stream",
     "text": [
      "+-------------+--------+\n",
      "|          _c0|count(1)|\n",
      "+-------------+--------+\n",
      "|       Moscow|       1|\n",
      "|       London|       1|\n",
      "|        Tokyo|       1|\n",
      "|        Paris|       1|\n",
      "|         city|       1|\n",
      "|Washington DC|       1|\n",
      "|         Rome|       1|\n",
      "|    New Delhi|       1|\n",
      "+-------------+--------+\n",
      "\n"
     ]
    }
   ],
   "source": [
    "groupDF.show()"
   ]
  },
  {
   "cell_type": "code",
   "execution_count": 14,
   "id": "275beeff-09fd-4a8f-9660-6080a7b51706",
   "metadata": {
    "tags": []
   },
   "outputs": [],
   "source": [
    "from pyspark.sql.functions import desc,rank"
   ]
  },
  {
   "cell_type": "code",
   "execution_count": 15,
   "id": "1f52f1d4-a8a7-4d78-8a15-3e26001a011e",
   "metadata": {
    "tags": []
   },
   "outputs": [],
   "source": [
    "winSpec = Window.partitionBy(\"_c0\").orderBy(desc(\"_c2\"))"
   ]
  },
  {
   "cell_type": "code",
   "execution_count": 16,
   "id": "b8117c7d-f53e-4b0a-882b-a689f1d62763",
   "metadata": {
    "tags": []
   },
   "outputs": [],
   "source": [
    "f_df = df2.withColumn(\"rank\", rank().over(winSpec))"
   ]
  },
  {
   "cell_type": "code",
   "execution_count": 17,
   "id": "ff39eaa7-6807-4102-a95d-bbd39a6fc56d",
   "metadata": {
    "tags": []
   },
   "outputs": [
    {
     "name": "stdout",
     "output_type": "stream",
     "text": [
      "+-------------+-----------+----------+-------+----+\n",
      "|          _c0|        _c1|       _c2|    _c3|rank|\n",
      "+-------------+-----------+----------+-------+----+\n",
      "|       Moscow|        RUS|       125|Million|   1|\n",
      "|       London|        GBR|       120|Million|   1|\n",
      "|        Tokyo|        JPN|       210|Million|   1|\n",
      "|        Paris|        FRA|        75|Million|   1|\n",
      "|         city|countrycode|population|   unit|   1|\n",
      "|Washington DC|        USA|       115|Million|   1|\n",
      "|         Rome|        ITA|        80|Million|   1|\n",
      "|    New Delhi|        IND|       175|Million|   1|\n",
      "+-------------+-----------+----------+-------+----+\n",
      "\n"
     ]
    }
   ],
   "source": [
    "f_df.show()"
   ]
  },
  {
   "cell_type": "code",
   "execution_count": 18,
   "id": "1f4def40-da28-41be-821c-e62528c4c13a",
   "metadata": {
    "tags": []
   },
   "outputs": [],
   "source": [
    "v_city=\"Paris\""
   ]
  },
  {
   "cell_type": "code",
   "execution_count": 21,
   "id": "0d8ae360-b2b4-47b4-affe-b60ccc342e09",
   "metadata": {
    "tags": []
   },
   "outputs": [],
   "source": [
    "f_df.write.option(\"header\",True) \\\n",
    "        .partitionBy(\"_c1\") \\\n",
    "        .mode(\"overwrite\") \\\n",
    "        .csv(\"c:/11/country_pop\")"
   ]
  },
  {
   "cell_type": "code",
   "execution_count": 23,
   "id": "c11777b2-c2d9-40ac-89a2-b32e462a3e03",
   "metadata": {},
   "outputs": [],
   "source": [
    "circuit_df = spark.read.option(\"header\",\"true\").csv(\"./data/raw/circuits.csv\")"
   ]
  },
  {
   "cell_type": "code",
   "execution_count": 24,
   "id": "5b8ab15d-ea0f-4241-80be-6059b88adf77",
   "metadata": {
    "tags": []
   },
   "outputs": [
    {
     "name": "stdout",
     "output_type": "stream",
     "text": [
      "+---------+--------------+--------------------+------------+---------+--------+---------+---+--------------------+\n",
      "|circuitId|    circuitRef|                name|    location|  country|     lat|      lng|alt|                 url|\n",
      "+---------+--------------+--------------------+------------+---------+--------+---------+---+--------------------+\n",
      "|        1|   albert_park|Albert Park Grand...|   Melbourne|Australia|-37.8497|  144.968| 10|http://en.wikiped...|\n",
      "|        2|        sepang|Sepang Internatio...|Kuala Lumpur| Malaysia| 2.76083|  101.738| 18|http://en.wikiped...|\n",
      "|        3|       bahrain|Bahrain Internati...|      Sakhir|  Bahrain| 26.0325|  50.5106|  7|http://en.wikiped...|\n",
      "|        4|     catalunya|Circuit de Barcel...|    Montmeló|    Spain|   41.57|  2.26111|109|http://en.wikiped...|\n",
      "|        5|      istanbul|       Istanbul Park|    Istanbul|   Turkey| 40.9517|   29.405|130|http://en.wikiped...|\n",
      "|        6|        monaco|   Circuit de Monaco| Monte-Carlo|   Monaco| 43.7347|  7.42056|  7|http://en.wikiped...|\n",
      "|        7|    villeneuve|Circuit Gilles Vi...|    Montreal|   Canada|    45.5| -73.5228| 13|http://en.wikiped...|\n",
      "|        8|   magny_cours|Circuit de Nevers...| Magny Cours|   France| 46.8642|  3.16361|228|http://en.wikiped...|\n",
      "|        9|   silverstone| Silverstone Circuit| Silverstone|       UK| 52.0786| -1.01694|153|http://en.wikiped...|\n",
      "|       10|hockenheimring|      Hockenheimring|  Hockenheim|  Germany| 49.3278|  8.56583|103|http://en.wikiped...|\n",
      "|       11|   hungaroring|         Hungaroring|    Budapest|  Hungary| 47.5789|  19.2486|264|http://en.wikiped...|\n",
      "|       12|      valencia|Valencia Street C...|    Valencia|    Spain| 39.4589|-0.331667|  4|http://en.wikiped...|\n",
      "|       13|           spa|Circuit de Spa-Fr...|         Spa|  Belgium| 50.4372|  5.97139|401|http://en.wikiped...|\n",
      "|       14|         monza|Autodromo Naziona...|       Monza|    Italy| 45.6156|  9.28111|162|http://en.wikiped...|\n",
      "|       15|    marina_bay|Marina Bay Street...|  Marina Bay|Singapore|  1.2914|  103.864| 18|http://en.wikiped...|\n",
      "|       16|          fuji|       Fuji Speedway|       Oyama|    Japan| 35.3717|  138.927|583|http://en.wikiped...|\n",
      "|       17|      shanghai|Shanghai Internat...|    Shanghai|    China| 31.3389|   121.22|  5|http://en.wikiped...|\n",
      "|       18|    interlagos|Autódromo José Ca...|   São Paulo|   Brazil|-23.7036| -46.6997|785|http://en.wikiped...|\n",
      "|       19|  indianapolis|Indianapolis Moto...|Indianapolis|      USA|  39.795| -86.2347|223|http://en.wikiped...|\n",
      "|       20|   nurburgring|         Nürburgring|     Nürburg|  Germany| 50.3356|   6.9475|578|http://en.wikiped...|\n",
      "+---------+--------------+--------------------+------------+---------+--------+---------+---+--------------------+\n",
      "only showing top 20 rows\n",
      "\n"
     ]
    }
   ],
   "source": [
    "circuit_df.show()"
   ]
  },
  {
   "cell_type": "code",
   "execution_count": 26,
   "id": "8be49091-3c89-4159-905e-28fc94dbd58a",
   "metadata": {
    "tags": []
   },
   "outputs": [
    {
     "name": "stdout",
     "output_type": "stream",
     "text": [
      "+---------+--------------+--------------------+\n",
      "|circuitId|    circuitRef|                name|\n",
      "+---------+--------------+--------------------+\n",
      "|        1|   albert_park|Albert Park Grand...|\n",
      "|        2|        sepang|Sepang Internatio...|\n",
      "|        3|       bahrain|Bahrain Internati...|\n",
      "|        4|     catalunya|Circuit de Barcel...|\n",
      "|        5|      istanbul|       Istanbul Park|\n",
      "|        6|        monaco|   Circuit de Monaco|\n",
      "|        7|    villeneuve|Circuit Gilles Vi...|\n",
      "|        8|   magny_cours|Circuit de Nevers...|\n",
      "|        9|   silverstone| Silverstone Circuit|\n",
      "|       10|hockenheimring|      Hockenheimring|\n",
      "|       11|   hungaroring|         Hungaroring|\n",
      "|       12|      valencia|Valencia Street C...|\n",
      "|       13|           spa|Circuit de Spa-Fr...|\n",
      "|       14|         monza|Autodromo Naziona...|\n",
      "|       15|    marina_bay|Marina Bay Street...|\n",
      "|       16|          fuji|       Fuji Speedway|\n",
      "|       17|      shanghai|Shanghai Internat...|\n",
      "|       18|    interlagos|Autódromo José Ca...|\n",
      "|       19|  indianapolis|Indianapolis Moto...|\n",
      "|       20|   nurburgring|         Nürburgring|\n",
      "+---------+--------------+--------------------+\n",
      "only showing top 20 rows\n",
      "\n"
     ]
    }
   ],
   "source": [
    "circuit_df.select(\"circuitId\",\"circuitRef\",\"name\").show()"
   ]
  },
  {
   "cell_type": "code",
   "execution_count": 27,
   "id": "71339535-9583-40d8-8069-2d578399f10b",
   "metadata": {
    "tags": []
   },
   "outputs": [],
   "source": [
    "from pyspark.sql.functions import col"
   ]
  },
  {
   "cell_type": "code",
   "execution_count": 28,
   "id": "d25ae2f5-d42f-4416-9f17-8bc0b00b4044",
   "metadata": {
    "tags": []
   },
   "outputs": [
    {
     "name": "stdout",
     "output_type": "stream",
     "text": [
      "+---------+--------------+--------------------+\n",
      "|Cicuit-ID|    circuitRef|                name|\n",
      "+---------+--------------+--------------------+\n",
      "|        1|   albert_park|Albert Park Grand...|\n",
      "|        2|        sepang|Sepang Internatio...|\n",
      "|        3|       bahrain|Bahrain Internati...|\n",
      "|        4|     catalunya|Circuit de Barcel...|\n",
      "|        5|      istanbul|       Istanbul Park|\n",
      "|        6|        monaco|   Circuit de Monaco|\n",
      "|        7|    villeneuve|Circuit Gilles Vi...|\n",
      "|        8|   magny_cours|Circuit de Nevers...|\n",
      "|        9|   silverstone| Silverstone Circuit|\n",
      "|       10|hockenheimring|      Hockenheimring|\n",
      "|       11|   hungaroring|         Hungaroring|\n",
      "|       12|      valencia|Valencia Street C...|\n",
      "|       13|           spa|Circuit de Spa-Fr...|\n",
      "|       14|         monza|Autodromo Naziona...|\n",
      "|       15|    marina_bay|Marina Bay Street...|\n",
      "|       16|          fuji|       Fuji Speedway|\n",
      "|       17|      shanghai|Shanghai Internat...|\n",
      "|       18|    interlagos|Autódromo José Ca...|\n",
      "|       19|  indianapolis|Indianapolis Moto...|\n",
      "|       20|   nurburgring|         Nürburgring|\n",
      "+---------+--------------+--------------------+\n",
      "only showing top 20 rows\n",
      "\n"
     ]
    }
   ],
   "source": [
    "circuit_df.select(col(\"circuitId\").alias(\"Cicuit-ID\"),\"circuitRef\",\"name\").show()"
   ]
  },
  {
   "cell_type": "code",
   "execution_count": 29,
   "id": "daa3f041-863b-469a-a611-1840bf6f7762",
   "metadata": {
    "tags": []
   },
   "outputs": [
    {
     "name": "stdout",
     "output_type": "stream",
     "text": [
      "+---------+--------------+--------------------+------------+---------+--------+---------+---+--------------------+\n",
      "|Cicuit-ID|    circuitRef|                name|    location|  country|     lat|      lng|alt|                 url|\n",
      "+---------+--------------+--------------------+------------+---------+--------+---------+---+--------------------+\n",
      "|        1|   albert_park|Albert Park Grand...|   Melbourne|Australia|-37.8497|  144.968| 10|http://en.wikiped...|\n",
      "|        2|        sepang|Sepang Internatio...|Kuala Lumpur| Malaysia| 2.76083|  101.738| 18|http://en.wikiped...|\n",
      "|        3|       bahrain|Bahrain Internati...|      Sakhir|  Bahrain| 26.0325|  50.5106|  7|http://en.wikiped...|\n",
      "|        4|     catalunya|Circuit de Barcel...|    Montmeló|    Spain|   41.57|  2.26111|109|http://en.wikiped...|\n",
      "|        5|      istanbul|       Istanbul Park|    Istanbul|   Turkey| 40.9517|   29.405|130|http://en.wikiped...|\n",
      "|        6|        monaco|   Circuit de Monaco| Monte-Carlo|   Monaco| 43.7347|  7.42056|  7|http://en.wikiped...|\n",
      "|        7|    villeneuve|Circuit Gilles Vi...|    Montreal|   Canada|    45.5| -73.5228| 13|http://en.wikiped...|\n",
      "|        8|   magny_cours|Circuit de Nevers...| Magny Cours|   France| 46.8642|  3.16361|228|http://en.wikiped...|\n",
      "|        9|   silverstone| Silverstone Circuit| Silverstone|       UK| 52.0786| -1.01694|153|http://en.wikiped...|\n",
      "|       10|hockenheimring|      Hockenheimring|  Hockenheim|  Germany| 49.3278|  8.56583|103|http://en.wikiped...|\n",
      "|       11|   hungaroring|         Hungaroring|    Budapest|  Hungary| 47.5789|  19.2486|264|http://en.wikiped...|\n",
      "|       12|      valencia|Valencia Street C...|    Valencia|    Spain| 39.4589|-0.331667|  4|http://en.wikiped...|\n",
      "|       13|           spa|Circuit de Spa-Fr...|         Spa|  Belgium| 50.4372|  5.97139|401|http://en.wikiped...|\n",
      "|       14|         monza|Autodromo Naziona...|       Monza|    Italy| 45.6156|  9.28111|162|http://en.wikiped...|\n",
      "|       15|    marina_bay|Marina Bay Street...|  Marina Bay|Singapore|  1.2914|  103.864| 18|http://en.wikiped...|\n",
      "|       16|          fuji|       Fuji Speedway|       Oyama|    Japan| 35.3717|  138.927|583|http://en.wikiped...|\n",
      "|       17|      shanghai|Shanghai Internat...|    Shanghai|    China| 31.3389|   121.22|  5|http://en.wikiped...|\n",
      "|       18|    interlagos|Autódromo José Ca...|   São Paulo|   Brazil|-23.7036| -46.6997|785|http://en.wikiped...|\n",
      "|       19|  indianapolis|Indianapolis Moto...|Indianapolis|      USA|  39.795| -86.2347|223|http://en.wikiped...|\n",
      "|       20|   nurburgring|         Nürburgring|     Nürburg|  Germany| 50.3356|   6.9475|578|http://en.wikiped...|\n",
      "+---------+--------------+--------------------+------------+---------+--------+---------+---+--------------------+\n",
      "only showing top 20 rows\n",
      "\n"
     ]
    }
   ],
   "source": [
    "circuit_df.withColumnRenamed(\"circuitId\",\"Cicuit-ID\").show()"
   ]
  },
  {
   "cell_type": "code",
   "execution_count": 37,
   "id": "2e59a390-32ee-489a-bd61-8872e4e87087",
   "metadata": {
    "tags": []
   },
   "outputs": [
    {
     "name": "stdout",
     "output_type": "stream",
     "text": [
      "+---------+--------------+--------------------+------------+---------+--------+---------+---+--------------------+--------------------+\n",
      "|circuitId|    circuitRef|                name|    location|  country|     lat|      lng|alt|                 url|                Date|\n",
      "+---------+--------------+--------------------+------------+---------+--------+---------+---+--------------------+--------------------+\n",
      "|        1|   albert_park|Albert Park Grand...|   Melbourne|Australia|-37.8497|  144.968| 10|http://en.wikiped...|2023-02-28 17:46:...|\n",
      "|        2|        sepang|Sepang Internatio...|Kuala Lumpur| Malaysia| 2.76083|  101.738| 18|http://en.wikiped...|2023-02-28 17:46:...|\n",
      "|        3|       bahrain|Bahrain Internati...|      Sakhir|  Bahrain| 26.0325|  50.5106|  7|http://en.wikiped...|2023-02-28 17:46:...|\n",
      "|        4|     catalunya|Circuit de Barcel...|    Montmeló|    Spain|   41.57|  2.26111|109|http://en.wikiped...|2023-02-28 17:46:...|\n",
      "|        5|      istanbul|       Istanbul Park|    Istanbul|   Turkey| 40.9517|   29.405|130|http://en.wikiped...|2023-02-28 17:46:...|\n",
      "|        6|        monaco|   Circuit de Monaco| Monte-Carlo|   Monaco| 43.7347|  7.42056|  7|http://en.wikiped...|2023-02-28 17:46:...|\n",
      "|        7|    villeneuve|Circuit Gilles Vi...|    Montreal|   Canada|    45.5| -73.5228| 13|http://en.wikiped...|2023-02-28 17:46:...|\n",
      "|        8|   magny_cours|Circuit de Nevers...| Magny Cours|   France| 46.8642|  3.16361|228|http://en.wikiped...|2023-02-28 17:46:...|\n",
      "|        9|   silverstone| Silverstone Circuit| Silverstone|       UK| 52.0786| -1.01694|153|http://en.wikiped...|2023-02-28 17:46:...|\n",
      "|       10|hockenheimring|      Hockenheimring|  Hockenheim|  Germany| 49.3278|  8.56583|103|http://en.wikiped...|2023-02-28 17:46:...|\n",
      "|       11|   hungaroring|         Hungaroring|    Budapest|  Hungary| 47.5789|  19.2486|264|http://en.wikiped...|2023-02-28 17:46:...|\n",
      "|       12|      valencia|Valencia Street C...|    Valencia|    Spain| 39.4589|-0.331667|  4|http://en.wikiped...|2023-02-28 17:46:...|\n",
      "|       13|           spa|Circuit de Spa-Fr...|         Spa|  Belgium| 50.4372|  5.97139|401|http://en.wikiped...|2023-02-28 17:46:...|\n",
      "|       14|         monza|Autodromo Naziona...|       Monza|    Italy| 45.6156|  9.28111|162|http://en.wikiped...|2023-02-28 17:46:...|\n",
      "|       15|    marina_bay|Marina Bay Street...|  Marina Bay|Singapore|  1.2914|  103.864| 18|http://en.wikiped...|2023-02-28 17:46:...|\n",
      "|       16|          fuji|       Fuji Speedway|       Oyama|    Japan| 35.3717|  138.927|583|http://en.wikiped...|2023-02-28 17:46:...|\n",
      "|       17|      shanghai|Shanghai Internat...|    Shanghai|    China| 31.3389|   121.22|  5|http://en.wikiped...|2023-02-28 17:46:...|\n",
      "|       18|    interlagos|Autódromo José Ca...|   São Paulo|   Brazil|-23.7036| -46.6997|785|http://en.wikiped...|2023-02-28 17:46:...|\n",
      "|       19|  indianapolis|Indianapolis Moto...|Indianapolis|      USA|  39.795| -86.2347|223|http://en.wikiped...|2023-02-28 17:46:...|\n",
      "|       20|   nurburgring|         Nürburgring|     Nürburg|  Germany| 50.3356|   6.9475|578|http://en.wikiped...|2023-02-28 17:46:...|\n",
      "+---------+--------------+--------------------+------------+---------+--------+---------+---+--------------------+--------------------+\n",
      "only showing top 20 rows\n",
      "\n"
     ]
    }
   ],
   "source": [
    "from pyspark.sql.functions import current_timestamp\n",
    "\n",
    "circuit_df.withColumn(\"Date\", current_timestamp()).show()"
   ]
  },
  {
   "cell_type": "code",
   "execution_count": 41,
   "id": "87f49e8b-a1dc-4b8e-94a5-13cb54226358",
   "metadata": {
    "tags": []
   },
   "outputs": [
    {
     "name": "stdout",
     "output_type": "stream",
     "text": [
      "+---------+--------------+--------------------+------------+---------+--------+---------+---+--------------------+---------+\n",
      "|circuitId|    circuitRef|                name|    location|  country|     lat|      lng|alt|                 url|const_col|\n",
      "+---------+--------------+--------------------+------------+---------+--------+---------+---+--------------------+---------+\n",
      "|        1|   albert_park|Albert Park Grand...|   Melbourne|Australia|-37.8497|  144.968| 10|http://en.wikiped...|      XYZ|\n",
      "|        2|        sepang|Sepang Internatio...|Kuala Lumpur| Malaysia| 2.76083|  101.738| 18|http://en.wikiped...|      XYZ|\n",
      "|        3|       bahrain|Bahrain Internati...|      Sakhir|  Bahrain| 26.0325|  50.5106|  7|http://en.wikiped...|      XYZ|\n",
      "|        4|     catalunya|Circuit de Barcel...|    Montmeló|    Spain|   41.57|  2.26111|109|http://en.wikiped...|      XYZ|\n",
      "|        5|      istanbul|       Istanbul Park|    Istanbul|   Turkey| 40.9517|   29.405|130|http://en.wikiped...|      XYZ|\n",
      "|        6|        monaco|   Circuit de Monaco| Monte-Carlo|   Monaco| 43.7347|  7.42056|  7|http://en.wikiped...|      XYZ|\n",
      "|        7|    villeneuve|Circuit Gilles Vi...|    Montreal|   Canada|    45.5| -73.5228| 13|http://en.wikiped...|      XYZ|\n",
      "|        8|   magny_cours|Circuit de Nevers...| Magny Cours|   France| 46.8642|  3.16361|228|http://en.wikiped...|      XYZ|\n",
      "|        9|   silverstone| Silverstone Circuit| Silverstone|       UK| 52.0786| -1.01694|153|http://en.wikiped...|      XYZ|\n",
      "|       10|hockenheimring|      Hockenheimring|  Hockenheim|  Germany| 49.3278|  8.56583|103|http://en.wikiped...|      XYZ|\n",
      "|       11|   hungaroring|         Hungaroring|    Budapest|  Hungary| 47.5789|  19.2486|264|http://en.wikiped...|      XYZ|\n",
      "|       12|      valencia|Valencia Street C...|    Valencia|    Spain| 39.4589|-0.331667|  4|http://en.wikiped...|      XYZ|\n",
      "|       13|           spa|Circuit de Spa-Fr...|         Spa|  Belgium| 50.4372|  5.97139|401|http://en.wikiped...|      XYZ|\n",
      "|       14|         monza|Autodromo Naziona...|       Monza|    Italy| 45.6156|  9.28111|162|http://en.wikiped...|      XYZ|\n",
      "|       15|    marina_bay|Marina Bay Street...|  Marina Bay|Singapore|  1.2914|  103.864| 18|http://en.wikiped...|      XYZ|\n",
      "|       16|          fuji|       Fuji Speedway|       Oyama|    Japan| 35.3717|  138.927|583|http://en.wikiped...|      XYZ|\n",
      "|       17|      shanghai|Shanghai Internat...|    Shanghai|    China| 31.3389|   121.22|  5|http://en.wikiped...|      XYZ|\n",
      "|       18|    interlagos|Autódromo José Ca...|   São Paulo|   Brazil|-23.7036| -46.6997|785|http://en.wikiped...|      XYZ|\n",
      "|       19|  indianapolis|Indianapolis Moto...|Indianapolis|      USA|  39.795| -86.2347|223|http://en.wikiped...|      XYZ|\n",
      "|       20|   nurburgring|         Nürburgring|     Nürburg|  Germany| 50.3356|   6.9475|578|http://en.wikiped...|      XYZ|\n",
      "+---------+--------------+--------------------+------------+---------+--------+---------+---+--------------------+---------+\n",
      "only showing top 20 rows\n",
      "\n"
     ]
    }
   ],
   "source": [
    "from pyspark.sql.functions import lit\n",
    "\n",
    "circuit_df.withColumn(\"const_col\", lit(\"XYZ\")).show()"
   ]
  },
  {
   "cell_type": "code",
   "execution_count": 43,
   "id": "b25fd96d-0ad8-49ef-88ae-302adbac16f0",
   "metadata": {
    "tags": []
   },
   "outputs": [],
   "source": [
    "circuit_df.write.parquet(\"C:/11/c\")"
   ]
  },
  {
   "cell_type": "code",
   "execution_count": null,
   "id": "494471b1-1f19-4745-b112-6a7891574db5",
   "metadata": {},
   "outputs": [],
   "source": []
  }
 ],
 "metadata": {
  "kernelspec": {
   "display_name": "Python 3 (ipykernel)",
   "language": "python",
   "name": "python3"
  },
  "language_info": {
   "codemirror_mode": {
    "name": "ipython",
    "version": 3
   },
   "file_extension": ".py",
   "mimetype": "text/x-python",
   "name": "python",
   "nbconvert_exporter": "python",
   "pygments_lexer": "ipython3",
   "version": "3.7.9"
  }
 },
 "nbformat": 4,
 "nbformat_minor": 5
}
